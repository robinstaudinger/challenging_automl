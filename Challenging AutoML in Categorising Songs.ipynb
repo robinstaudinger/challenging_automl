{
 "cells": [
  {
   "cell_type": "markdown",
   "metadata": {},
   "source": [
    "##### Authors: Robin Staudinger and Max Estlander"
   ]
  },
  {
   "cell_type": "markdown",
   "metadata": {
    "colab_type": "text",
    "id": "rfF1wVqpCj2d"
   },
   "source": [
    "# *Challenging AutoML in Categorising Songs * "
   ]
  },
  {
   "cell_type": "markdown",
   "metadata": {
    "colab_type": "text",
    "id": "Az5efIvDCj2g"
   },
   "source": [
    "## Abstract"
   ]
  },
  {
   "cell_type": "markdown",
   "metadata": {
    "colab_type": "text",
    "id": "R9ZcdnM0Cj2h"
   },
   "source": [
    "In this project we explore how well machine learning can be used to categorize songs based on rythm, pitch and timbre of the songs. We also wanted to see how well a generalized tool, AutoML, could perfrom the task, and then we explored how much work it would take to beat AutoML. Without preprocessing and just giving the data as is h2o.ai's AutoML managed to get 65% correct , while we managed only slightly above 50%. However, after a lot of preprocessing of the data we managed to reach 64% with similar log loss numbers. We found that h2o.ai's AutoML is great for creating a benchmark and has very sophisticated methods for preprocessing and machine learning. It is a great way to find out if the target is worthwhile pursuing with data as is or if more data should be accuired. While we weren't able to beat the tool, we are confident that with more sophisticated preprocessing methods and more specialised combinations of algorithm it is better to do the work yourself and tailor the solution than defaulting to generalized tools. \n",
    "\n",
    "\n",
    "\n"
   ]
  },
  {
   "cell_type": "markdown",
   "metadata": {
    "colab_type": "text",
    "id": "SYLphqXvCj2j"
   },
   "source": [
    "## 1. Introduction"
   ]
  },
  {
   "cell_type": "markdown",
   "metadata": {
    "colab_type": "text",
    "id": "b3BAaIy9Cj2k"
   },
   "source": [
    "In todays world everything is getting automated more and more. However, some tasks seem too hard to automate since it's difficult to make a rule set for how it should be done. Machine Learning is a great solution for this issue since it uses collected data to create an algorithm and find relationships within the data that it can use to then automatically categorize it or solve the task at hand. \n",
    "\n",
    "In this project we will be categorizing songs to different music genres. This is a difficult tasks since it is not obvious to which genre a song belongs to and songs can belong to multiple genres. There are no clearly defind rules or measurements but that's why using machine learning is a good solution to finding and defining those rules. The data set used for training the algorithm consists of 4363 songs. From each song 264 features have been extracted from the rythm (1-168), pitch (169-216) and timbre (217-264). The songs have been categorized to belong to only 1 of 10 different music genres.[1]  \n",
    "\n",
    "Our goal is to challenge h2o.ai's AutoML tool [2][3] to try and categorize another set consisting of 6544 songs with the same features extracted. AutoML is a new tool that is promised to do the whole machine learning pipeline, i.e. you just give it a dataset to train on and you get a viable predictor. [4] In the project we hope to find out how viable the current AutoML tools are, that is do they actually do what they promise and how well. We will evaluate the amount of manual labour it would take match or even beat their performance. Additionally, we evaluate how well the skills learned during the course actually compare. \n"
   ]
  },
  {
   "cell_type": "markdown",
   "metadata": {
    "colab_type": "text",
    "id": "GXPK3O6nCj2m"
   },
   "source": [
    "## 2. Data analysis"
   ]
  },
  {
   "cell_type": "code",
   "execution_count": 1,
   "metadata": {
    "colab": {
     "base_uri": "https://localhost:8080/",
     "height": 122
    },
    "colab_type": "code",
    "id": "jkU7juZ7Cj2p",
    "outputId": "431d47fa-f537-4dfa-8d3a-3d8627453ed8"
   },
   "outputs": [],
   "source": [
    "# Import necessary libraries\n",
    "import pandas as pd\n",
    "import numpy as np\n",
    "import io\n",
    "import matplotlib.pyplot as plt\n",
    "from IPython.display import display"
   ]
  },
  {
   "cell_type": "markdown",
   "metadata": {
    "colab_type": "text",
    "id": "qen64u8cQe-1"
   },
   "source": [
    "### Load and inspect the data"
   ]
  },
  {
   "cell_type": "markdown",
   "metadata": {},
   "source": [
    "The data should be contained in the same folder as in the notebook is run."
   ]
  },
  {
   "cell_type": "code",
   "execution_count": 2,
   "metadata": {
    "colab": {},
    "colab_type": "code",
    "id": "HG5Q9-COLlGk"
   },
   "outputs": [],
   "source": [
    "# Load the data and combine into one dataframe\n",
    "train_data = pd.read_csv('train_data.csv', header=None)\n",
    "train_labels = pd.read_csv('train_labels.csv', header=None)\n",
    "\n",
    "# give column names\n",
    "train_labels.columns = ['labels']\n",
    "train_data.columns = np.arange(0,264).astype(str)"
   ]
  },
  {
   "cell_type": "code",
   "execution_count": 3,
   "metadata": {
    "colab": {},
    "colab_type": "code",
    "id": "nLa6K5JwVkza"
   },
   "outputs": [],
   "source": [
    "# Same for the test data\n",
    "test_data = pd.read_csv('test_data.csv', header=None)\n",
    "test_data.columns = np.arange(0,264).astype(str)"
   ]
  },
  {
   "cell_type": "markdown",
   "metadata": {
    "colab_type": "text",
    "id": "1IXKsX-Y3MJ9"
   },
   "source": [
    "Let's have a look at our training data:"
   ]
  },
  {
   "cell_type": "code",
   "execution_count": 4,
   "metadata": {
    "colab": {
     "base_uri": "https://localhost:8080/",
     "height": 346
    },
    "colab_type": "code",
    "id": "dNi5O6biCj21",
    "outputId": "febda51f-73f6-40b4-af66-726388d7e36e"
   },
   "outputs": [
    {
     "data": {
      "text/html": [
       "<div>\n",
       "<style scoped>\n",
       "    .dataframe tbody tr th:only-of-type {\n",
       "        vertical-align: middle;\n",
       "    }\n",
       "\n",
       "    .dataframe tbody tr th {\n",
       "        vertical-align: top;\n",
       "    }\n",
       "\n",
       "    .dataframe thead th {\n",
       "        text-align: right;\n",
       "    }\n",
       "</style>\n",
       "<table border=\"1\" class=\"dataframe\">\n",
       "  <thead>\n",
       "    <tr style=\"text-align: right;\">\n",
       "      <th></th>\n",
       "      <th>0</th>\n",
       "      <th>1</th>\n",
       "      <th>2</th>\n",
       "      <th>3</th>\n",
       "      <th>4</th>\n",
       "      <th>5</th>\n",
       "      <th>6</th>\n",
       "      <th>7</th>\n",
       "      <th>8</th>\n",
       "      <th>9</th>\n",
       "      <th>...</th>\n",
       "      <th>254</th>\n",
       "      <th>255</th>\n",
       "      <th>256</th>\n",
       "      <th>257</th>\n",
       "      <th>258</th>\n",
       "      <th>259</th>\n",
       "      <th>260</th>\n",
       "      <th>261</th>\n",
       "      <th>262</th>\n",
       "      <th>263</th>\n",
       "    </tr>\n",
       "  </thead>\n",
       "  <tbody>\n",
       "    <tr>\n",
       "      <th>count</th>\n",
       "      <td>4363.000000</td>\n",
       "      <td>4363.000000</td>\n",
       "      <td>4363.000000</td>\n",
       "      <td>4363.000000</td>\n",
       "      <td>4363.000000</td>\n",
       "      <td>4363.000000</td>\n",
       "      <td>4363.000000</td>\n",
       "      <td>4363.000000</td>\n",
       "      <td>4363.000000</td>\n",
       "      <td>4363.000000</td>\n",
       "      <td>...</td>\n",
       "      <td>4363.000000</td>\n",
       "      <td>4363.000000</td>\n",
       "      <td>4363.000000</td>\n",
       "      <td>4363.000000</td>\n",
       "      <td>4363.000000</td>\n",
       "      <td>4363.000000</td>\n",
       "      <td>4363.000000</td>\n",
       "      <td>4363.000000</td>\n",
       "      <td>4363.000000</td>\n",
       "      <td>4363.000000</td>\n",
       "    </tr>\n",
       "    <tr>\n",
       "      <th>mean</th>\n",
       "      <td>3097.683714</td>\n",
       "      <td>4390.947408</td>\n",
       "      <td>3987.672465</td>\n",
       "      <td>4004.861996</td>\n",
       "      <td>3086.664978</td>\n",
       "      <td>3329.815872</td>\n",
       "      <td>3043.628357</td>\n",
       "      <td>3034.574066</td>\n",
       "      <td>2671.463266</td>\n",
       "      <td>2440.464016</td>\n",
       "      <td>...</td>\n",
       "      <td>0.148412</td>\n",
       "      <td>0.235156</td>\n",
       "      <td>0.099695</td>\n",
       "      <td>0.149826</td>\n",
       "      <td>0.079100</td>\n",
       "      <td>0.102965</td>\n",
       "      <td>0.070939</td>\n",
       "      <td>0.078456</td>\n",
       "      <td>0.070708</td>\n",
       "      <td>0.059353</td>\n",
       "    </tr>\n",
       "    <tr>\n",
       "      <th>std</th>\n",
       "      <td>1309.219331</td>\n",
       "      <td>1457.625815</td>\n",
       "      <td>1228.185868</td>\n",
       "      <td>1242.336635</td>\n",
       "      <td>1031.020501</td>\n",
       "      <td>1124.845689</td>\n",
       "      <td>1097.705493</td>\n",
       "      <td>1121.064034</td>\n",
       "      <td>1017.781965</td>\n",
       "      <td>970.028384</td>\n",
       "      <td>...</td>\n",
       "      <td>0.053224</td>\n",
       "      <td>0.102935</td>\n",
       "      <td>0.038655</td>\n",
       "      <td>0.057284</td>\n",
       "      <td>0.026279</td>\n",
       "      <td>0.030300</td>\n",
       "      <td>0.020456</td>\n",
       "      <td>0.022035</td>\n",
       "      <td>0.026422</td>\n",
       "      <td>0.018123</td>\n",
       "    </tr>\n",
       "    <tr>\n",
       "      <th>min</th>\n",
       "      <td>1.240000</td>\n",
       "      <td>3.565000</td>\n",
       "      <td>73.644000</td>\n",
       "      <td>147.370000</td>\n",
       "      <td>58.027000</td>\n",
       "      <td>136.670000</td>\n",
       "      <td>139.310000</td>\n",
       "      <td>157.260000</td>\n",
       "      <td>118.530000</td>\n",
       "      <td>130.150000</td>\n",
       "      <td>...</td>\n",
       "      <td>-0.013915</td>\n",
       "      <td>-0.013511</td>\n",
       "      <td>-0.022156</td>\n",
       "      <td>-0.046172</td>\n",
       "      <td>0.003606</td>\n",
       "      <td>0.005359</td>\n",
       "      <td>0.003377</td>\n",
       "      <td>0.011343</td>\n",
       "      <td>0.005302</td>\n",
       "      <td>-0.007228</td>\n",
       "    </tr>\n",
       "    <tr>\n",
       "      <th>25%</th>\n",
       "      <td>2200.900000</td>\n",
       "      <td>3386.150000</td>\n",
       "      <td>3128.650000</td>\n",
       "      <td>3173.200000</td>\n",
       "      <td>2373.000000</td>\n",
       "      <td>2551.050000</td>\n",
       "      <td>2264.800000</td>\n",
       "      <td>2233.150000</td>\n",
       "      <td>1923.200000</td>\n",
       "      <td>1727.650000</td>\n",
       "      <td>...</td>\n",
       "      <td>0.111165</td>\n",
       "      <td>0.148390</td>\n",
       "      <td>0.070612</td>\n",
       "      <td>0.109415</td>\n",
       "      <td>0.061715</td>\n",
       "      <td>0.081870</td>\n",
       "      <td>0.056992</td>\n",
       "      <td>0.062765</td>\n",
       "      <td>0.051641</td>\n",
       "      <td>0.046992</td>\n",
       "    </tr>\n",
       "    <tr>\n",
       "      <th>50%</th>\n",
       "      <td>3114.600000</td>\n",
       "      <td>4376.800000</td>\n",
       "      <td>3988.500000</td>\n",
       "      <td>3976.300000</td>\n",
       "      <td>3041.300000</td>\n",
       "      <td>3276.400000</td>\n",
       "      <td>2960.900000</td>\n",
       "      <td>2956.800000</td>\n",
       "      <td>2601.600000</td>\n",
       "      <td>2339.900000</td>\n",
       "      <td>...</td>\n",
       "      <td>0.144030</td>\n",
       "      <td>0.225000</td>\n",
       "      <td>0.097368</td>\n",
       "      <td>0.146210</td>\n",
       "      <td>0.075773</td>\n",
       "      <td>0.101270</td>\n",
       "      <td>0.069202</td>\n",
       "      <td>0.077442</td>\n",
       "      <td>0.066268</td>\n",
       "      <td>0.057879</td>\n",
       "    </tr>\n",
       "    <tr>\n",
       "      <th>75%</th>\n",
       "      <td>3949.150000</td>\n",
       "      <td>5391.900000</td>\n",
       "      <td>4814.950000</td>\n",
       "      <td>4795.300000</td>\n",
       "      <td>3741.400000</td>\n",
       "      <td>4055.700000</td>\n",
       "      <td>3769.100000</td>\n",
       "      <td>3758.100000</td>\n",
       "      <td>3347.200000</td>\n",
       "      <td>3089.950000</td>\n",
       "      <td>...</td>\n",
       "      <td>0.180845</td>\n",
       "      <td>0.325125</td>\n",
       "      <td>0.123075</td>\n",
       "      <td>0.187625</td>\n",
       "      <td>0.092576</td>\n",
       "      <td>0.121835</td>\n",
       "      <td>0.083009</td>\n",
       "      <td>0.093005</td>\n",
       "      <td>0.085709</td>\n",
       "      <td>0.069603</td>\n",
       "    </tr>\n",
       "    <tr>\n",
       "      <th>max</th>\n",
       "      <td>9172.400000</td>\n",
       "      <td>9062.500000</td>\n",
       "      <td>8318.100000</td>\n",
       "      <td>9342.200000</td>\n",
       "      <td>8275.700000</td>\n",
       "      <td>8169.500000</td>\n",
       "      <td>7547.600000</td>\n",
       "      <td>8262.200000</td>\n",
       "      <td>8667.900000</td>\n",
       "      <td>7549.300000</td>\n",
       "      <td>...</td>\n",
       "      <td>0.383050</td>\n",
       "      <td>0.485230</td>\n",
       "      <td>0.301290</td>\n",
       "      <td>0.352410</td>\n",
       "      <td>0.246010</td>\n",
       "      <td>0.235600</td>\n",
       "      <td>0.195000</td>\n",
       "      <td>0.170010</td>\n",
       "      <td>0.182180</td>\n",
       "      <td>0.149770</td>\n",
       "    </tr>\n",
       "  </tbody>\n",
       "</table>\n",
       "<p>8 rows × 264 columns</p>\n",
       "</div>"
      ],
      "text/plain": [
       "                 0            1            2            3            4  \\\n",
       "count  4363.000000  4363.000000  4363.000000  4363.000000  4363.000000   \n",
       "mean   3097.683714  4390.947408  3987.672465  4004.861996  3086.664978   \n",
       "std    1309.219331  1457.625815  1228.185868  1242.336635  1031.020501   \n",
       "min       1.240000     3.565000    73.644000   147.370000    58.027000   \n",
       "25%    2200.900000  3386.150000  3128.650000  3173.200000  2373.000000   \n",
       "50%    3114.600000  4376.800000  3988.500000  3976.300000  3041.300000   \n",
       "75%    3949.150000  5391.900000  4814.950000  4795.300000  3741.400000   \n",
       "max    9172.400000  9062.500000  8318.100000  9342.200000  8275.700000   \n",
       "\n",
       "                 5            6            7            8            9  \\\n",
       "count  4363.000000  4363.000000  4363.000000  4363.000000  4363.000000   \n",
       "mean   3329.815872  3043.628357  3034.574066  2671.463266  2440.464016   \n",
       "std    1124.845689  1097.705493  1121.064034  1017.781965   970.028384   \n",
       "min     136.670000   139.310000   157.260000   118.530000   130.150000   \n",
       "25%    2551.050000  2264.800000  2233.150000  1923.200000  1727.650000   \n",
       "50%    3276.400000  2960.900000  2956.800000  2601.600000  2339.900000   \n",
       "75%    4055.700000  3769.100000  3758.100000  3347.200000  3089.950000   \n",
       "max    8169.500000  7547.600000  8262.200000  8667.900000  7549.300000   \n",
       "\n",
       "          ...               254          255          256          257  \\\n",
       "count     ...       4363.000000  4363.000000  4363.000000  4363.000000   \n",
       "mean      ...          0.148412     0.235156     0.099695     0.149826   \n",
       "std       ...          0.053224     0.102935     0.038655     0.057284   \n",
       "min       ...         -0.013915    -0.013511    -0.022156    -0.046172   \n",
       "25%       ...          0.111165     0.148390     0.070612     0.109415   \n",
       "50%       ...          0.144030     0.225000     0.097368     0.146210   \n",
       "75%       ...          0.180845     0.325125     0.123075     0.187625   \n",
       "max       ...          0.383050     0.485230     0.301290     0.352410   \n",
       "\n",
       "               258          259          260          261          262  \\\n",
       "count  4363.000000  4363.000000  4363.000000  4363.000000  4363.000000   \n",
       "mean      0.079100     0.102965     0.070939     0.078456     0.070708   \n",
       "std       0.026279     0.030300     0.020456     0.022035     0.026422   \n",
       "min       0.003606     0.005359     0.003377     0.011343     0.005302   \n",
       "25%       0.061715     0.081870     0.056992     0.062765     0.051641   \n",
       "50%       0.075773     0.101270     0.069202     0.077442     0.066268   \n",
       "75%       0.092576     0.121835     0.083009     0.093005     0.085709   \n",
       "max       0.246010     0.235600     0.195000     0.170010     0.182180   \n",
       "\n",
       "               263  \n",
       "count  4363.000000  \n",
       "mean      0.059353  \n",
       "std       0.018123  \n",
       "min      -0.007228  \n",
       "25%       0.046992  \n",
       "50%       0.057879  \n",
       "75%       0.069603  \n",
       "max       0.149770  \n",
       "\n",
       "[8 rows x 264 columns]"
      ]
     },
     "execution_count": 4,
     "metadata": {},
     "output_type": "execute_result"
    }
   ],
   "source": [
    "#Analysis of the input data\n",
    "train_data.describe()"
   ]
  },
  {
   "cell_type": "markdown",
   "metadata": {
    "colab_type": "text",
    "id": "4Dj46Qai39c1"
   },
   "source": [
    "We can see that the values differ a lot in and between the categories, thus we will have to scale the data to make it more friendly to our predictors, this is done later in the preprocessing phase. Since there are so many features, we still cannot see all of the data in this phase.\n"
   ]
  },
  {
   "cell_type": "markdown",
   "metadata": {
    "colab_type": "text",
    "id": "uBjd5Gvc1k6h"
   },
   "source": [
    "Next we'll have a look at the distribution of the song categories in the training data:"
   ]
  },
  {
   "cell_type": "code",
   "execution_count": 6,
   "metadata": {
    "colab": {
     "base_uri": "https://localhost:8080/",
     "height": 365
    },
    "colab_type": "code",
    "id": "89UzvBwxNMwg",
    "outputId": "5551d462-c746-4a6b-ae04-fec397df7ab3"
   },
   "outputs": [
    {
     "data": {
      "text/plain": [
       "<matplotlib.axes._subplots.AxesSubplot at 0x24372678128>"
      ]
     },
     "execution_count": 6,
     "metadata": {},
     "output_type": "execute_result"
    },
    {
     "data": {
      "image/png": "[encoded data removed]",
      "text/plain": [
       "<matplotlib.figure.Figure at 0x24372d83a20>"
      ]
     },
     "metadata": {},
     "output_type": "display_data"
    }
   ],
   "source": [
    "# Bar plot of class distribution\n",
    "distribution  = train_labels['labels'].value_counts()\n",
    "total = sum(distribution)\n",
    "fraction = distribution / total\n",
    "fraction.plot(kind='bar')"
   ]
  },
  {
   "cell_type": "markdown",
   "metadata": {
    "colab_type": "text",
    "id": "GPcyc9fj1irn"
   },
   "source": [
    "We can see that:\n",
    "\n",
    "\n",
    "*   ca 50% of the songs are Pop_Rock\n",
    "*   The labels are numbered in decreasing frequency\n",
    "\n"
   ]
  },
  {
   "cell_type": "markdown",
   "metadata": {
    "colab_type": "text",
    "id": "UEJfG2gC8CEC"
   },
   "source": [
    "### Histograms and Data cleaning\n"
   ]
  },
  {
   "cell_type": "markdown",
   "metadata": {
    "colab_type": "text",
    "id": "-q_1iU5hkjfS"
   },
   "source": [
    "Through a thorough research of the data we found some interesting characteristics, in this section we will show some of them, with the help of histograms."
   ]
  },
  {
   "cell_type": "code",
   "execution_count": 14,
   "metadata": {
    "colab": {
     "base_uri": "https://localhost:8080/",
     "height": 1507
    },
    "colab_type": "code",
    "id": "lNKvHbEG8G6g",
    "outputId": "af6bd357-e0c5-48b8-8f11-8b7751827a4e"
   },
   "outputs": [
    {
     "data": {
      "text/plain": [
       "array([[<matplotlib.axes._subplots.AxesSubplot object at 0x0000024333733DA0>,\n",
       "        <matplotlib.axes._subplots.AxesSubplot object at 0x0000024333672080>,\n",
       "        <matplotlib.axes._subplots.AxesSubplot object at 0x00000243335AF080>,\n",
       "        <matplotlib.axes._subplots.AxesSubplot object at 0x00000243334EE550>],\n",
       "       [<matplotlib.axes._subplots.AxesSubplot object at 0x0000024333424B38>,\n",
       "        <matplotlib.axes._subplots.AxesSubplot object at 0x00000243334249B0>,\n",
       "        <matplotlib.axes._subplots.AxesSubplot object at 0x00000243332C7DD8>,\n",
       "        <matplotlib.axes._subplots.AxesSubplot object at 0x0000024333206D68>],\n",
       "       [<matplotlib.axes._subplots.AxesSubplot object at 0x0000024333144F28>,\n",
       "        <matplotlib.axes._subplots.AxesSubplot object at 0x00000243331D2B00>,\n",
       "        <matplotlib.axes._subplots.AxesSubplot object at 0x0000024332FED630>,\n",
       "        <matplotlib.axes._subplots.AxesSubplot object at 0x0000024332F2C630>],\n",
       "       [<matplotlib.axes._subplots.AxesSubplot object at 0x0000024332E61DA0>,\n",
       "        <matplotlib.axes._subplots.AxesSubplot object at 0x0000024332DA0FD0>,\n",
       "        <matplotlib.axes._subplots.AxesSubplot object at 0x0000024332D0AEF0>,\n",
       "        <matplotlib.axes._subplots.AxesSubplot object at 0x0000024332C43D30>],\n",
       "       [<matplotlib.axes._subplots.AxesSubplot object at 0x0000024332B81C50>,\n",
       "        <matplotlib.axes._subplots.AxesSubplot object at 0x0000024332ABF860>,\n",
       "        <matplotlib.axes._subplots.AxesSubplot object at 0x0000024332B4D5C0>,\n",
       "        <matplotlib.axes._subplots.AxesSubplot object at 0x0000024332961C50>]],\n",
       "      dtype=object)"
      ]
     },
     "execution_count": 14,
     "metadata": {},
     "output_type": "execute_result"
    },
    {
     "data": {
      "image/png": "[encoded data removed]",
      "text/plain": [
       "<matplotlib.figure.Figure at 0x2433374ce10>"
      ]
     },
     "metadata": {},
     "output_type": "display_data"
    }
   ],
   "source": [
    "train_data.iloc[:,80:100].hist(figsize=[20,20])"
   ]
  },
  {
   "cell_type": "code",
   "execution_count": 9,
   "metadata": {
    "colab": {
     "base_uri": "https://localhost:8080/",
     "height": 1520
    },
    "colab_type": "code",
    "id": "i37AvbkJmFcy",
    "outputId": "fec37bda-2add-410e-e57d-1bd4a321745e"
   },
   "outputs": [
    {
     "data": {
      "text/plain": [
       "array([[<matplotlib.axes._subplots.AxesSubplot object at 0x7f7380c0cf98>,\n",
       "        <matplotlib.axes._subplots.AxesSubplot object at 0x7f7380874fd0>,\n",
       "        <matplotlib.axes._subplots.AxesSubplot object at 0x7f737f0175c0>,\n",
       "        <matplotlib.axes._subplots.AxesSubplot object at 0x7f737efc5e80>],\n",
       "       [<matplotlib.axes._subplots.AxesSubplot object at 0x7f737ef86400>,\n",
       "        <matplotlib.axes._subplots.AxesSubplot object at 0x7f737ef86438>,\n",
       "        <matplotlib.axes._subplots.AxesSubplot object at 0x7f737ef6e8d0>,\n",
       "        <matplotlib.axes._subplots.AxesSubplot object at 0x7f737ef0a630>],\n",
       "       [<matplotlib.axes._subplots.AxesSubplot object at 0x7f737eee34e0>,\n",
       "        <matplotlib.axes._subplots.AxesSubplot object at 0x7f737ef76c50>,\n",
       "        <matplotlib.axes._subplots.AxesSubplot object at 0x7f737ee48b00>,\n",
       "        <matplotlib.axes._subplots.AxesSubplot object at 0x7f737ee065c0>],\n",
       "       [<matplotlib.axes._subplots.AxesSubplot object at 0x7f737edc8160>,\n",
       "        <matplotlib.axes._subplots.AxesSubplot object at 0x7f737edea400>,\n",
       "        <matplotlib.axes._subplots.AxesSubplot object at 0x7f737ed9fe80>,\n",
       "        <matplotlib.axes._subplots.AxesSubplot object at 0x7f737ed628d0>],\n",
       "       [<matplotlib.axes._subplots.AxesSubplot object at 0x7f737ed18e10>,\n",
       "        <matplotlib.axes._subplots.AxesSubplot object at 0x7f737ecda400>,\n",
       "        <matplotlib.axes._subplots.AxesSubplot object at 0x7f737ec8c240>,\n",
       "        <matplotlib.axes._subplots.AxesSubplot object at 0x7f737ec3e860>]],\n",
       "      dtype=object)"
      ]
     },
     "execution_count": 9,
     "metadata": {
      "tags": []
     },
     "output_type": "execute_result"
    },
    {
     "data": {
      "image/png": "[encoded data removed]",
      "text/plain": [
       "<matplotlib.figure.Figure at 0x7f738105dfd0>"
      ]
     },
     "metadata": {
      "tags": []
     },
     "output_type": "display_data"
    }
   ],
   "source": [
    "train_data.iloc[:,200:220].hist(figsize=[20,20])"
   ]
  },
  {
   "cell_type": "markdown",
   "metadata": {
    "colab_type": "text",
    "id": "MXrHunQJlB_H"
   },
   "source": [
    "From the histograms it can be noted that the data of features 80-95 and 200-219 is really poorly distributed, this is probably due to a high amount of duplicate values combined with outliers. These datapoints create a higher weight on the predictors and thus should be minimized in the dataset, in order to avoid bias."
   ]
  },
  {
   "cell_type": "code",
   "execution_count": 46,
   "metadata": {
    "colab": {},
    "colab_type": "code",
    "id": "1E9sAORcl3MX"
   },
   "outputs": [],
   "source": [
    "# We find the columns with a lot of duplicate values\n",
    "uniquevals = train_data.nunique()\n",
    "notuniq = uniquevals[:] < 2000\n",
    "del_cols = notuniq.index[notuniq[:]].tolist()"
   ]
  },
  {
   "cell_type": "code",
   "execution_count": 47,
   "metadata": {
    "colab": {},
    "colab_type": "code",
    "id": "CAp8tpDJm356"
   },
   "outputs": [],
   "source": [
    "# Drop the dirty data columns from both datasets\n",
    "train_data_clean = train_data.drop(columns = del_cols)\n",
    "test_data_clean = test_data.drop(columns = del_cols)"
   ]
  },
  {
   "cell_type": "markdown",
   "metadata": {
    "colab_type": "text",
    "id": "WqAKh-Q_m-37"
   },
   "source": [
    "For the next part of the cleaning procedure, we had to take to the beloved friend of every person: Excel.\n",
    "\n",
    "We opened the training data in excel and found out that there were some double punctuation in some values in the dataset. Specifically, the data was corrupted with \"1.\" before the actual value.\n",
    "\n",
    "We'll proceed to fix these values:"
   ]
  },
  {
   "cell_type": "code",
   "execution_count": 68,
   "metadata": {
    "colab": {
     "base_uri": "https://localhost:8080/",
     "height": 34
    },
    "colab_type": "code",
    "id": "CsZTwwkioD3A",
    "outputId": "c1504b54-76d2-4fa8-a568-38c114c87bca"
   },
   "outputs": [
    {
     "data": {
      "text/plain": [
       "(4363, 228)"
      ]
     },
     "execution_count": 68,
     "metadata": {},
     "output_type": "execute_result"
    }
   ],
   "source": [
    "# Replace the double punctuations with the correct value\n",
    "train_data_clean.replace('1.0.', '0.')\n",
    "train_data_clean.replace('1.1.', '1.')\n",
    "train_data_clean.replace('1.2.', '2.')\n",
    "train_data_clean.replace('1.3.', '3.')\n",
    "train_data_clean.replace('1.4.', '4.')\n",
    "train_data_clean.replace('1.5.', '5.')\n",
    "train_data_clean.replace('1.6.', '6.')\n",
    "\n",
    "# Do the same for the test set\n",
    "train_data_clean.replace('1.0.', '0.')\n",
    "train_data_clean.replace('1.1.', '1.')\n",
    "train_data_clean.replace('1.2.', '2.')\n",
    "train_data_clean.replace('1.3.', '3.')\n",
    "train_data_clean.replace('1.4.', '4.')\n",
    "train_data_clean.replace('1.5.', '5.')\n",
    "train_data_clean.replace('1.6.', '6.')\n",
    "\n",
    "\n",
    "# Check the new shape of the data\n",
    "train_data_clean.shape"
   ]
  },
  {
   "cell_type": "markdown",
   "metadata": {
    "colab_type": "text",
    "id": "6qeu1rSQoO4t"
   },
   "source": [
    "Finally, we can proceed with removing the outliers [5]:\n",
    "\n",
    "(note: this cannot be done to the test data, since the submission file has to have all the rows)"
   ]
  },
  {
   "cell_type": "code",
   "execution_count": 49,
   "metadata": {
    "colab": {},
    "colab_type": "code",
    "id": "GZIwNb00oPP4"
   },
   "outputs": [],
   "source": [
    "# remove outliers with the help of zscore\n",
    "\n",
    "from scipy import stats\n",
    "df = pd.concat([train_data_clean, train_labels], axis=1)\n",
    "df = df[(np.abs(stats.zscore(train_data_clean.iloc[df.index,:])) < 3.5).all(axis=1)]\n",
    "\n",
    "train_data_clean_no = df.iloc[:,:-1]\n",
    "train_labels_no = df.iloc[:,-1]"
   ]
  },
  {
   "cell_type": "markdown",
   "metadata": {
    "colab_type": "text",
    "id": "sKBKRR68o717"
   },
   "source": [
    "We can now plot the histograms again to see the differences in the data."
   ]
  },
  {
   "cell_type": "code",
   "execution_count": 19,
   "metadata": {
    "colab": {
     "base_uri": "https://localhost:8080/",
     "height": 1507
    },
    "colab_type": "code",
    "id": "gBGaxlKno8Bn",
    "outputId": "5e96775b-81ca-428b-e5d5-bd37a767af88"
   },
   "outputs": [
    {
     "data": {
      "text/plain": [
       "array([[<matplotlib.axes._subplots.AxesSubplot object at 0x0000024330C89358>,\n",
       "        <matplotlib.axes._subplots.AxesSubplot object at 0x000002432E3A99B0>,\n",
       "        <matplotlib.axes._subplots.AxesSubplot object at 0x000002432E2EE9B0>,\n",
       "        <matplotlib.axes._subplots.AxesSubplot object at 0x000002432E22C9B0>],\n",
       "       [<matplotlib.axes._subplots.AxesSubplot object at 0x000002432E16B9B0>,\n",
       "        <matplotlib.axes._subplots.AxesSubplot object at 0x000002432E16BEF0>,\n",
       "        <matplotlib.axes._subplots.AxesSubplot object at 0x000002432E081C50>,\n",
       "        <matplotlib.axes._subplots.AxesSubplot object at 0x000002432DF4DBE0>],\n",
       "       [<matplotlib.axes._subplots.AxesSubplot object at 0x000002432CEB99B0>,\n",
       "        <matplotlib.axes._subplots.AxesSubplot object at 0x000002432CDF8710>,\n",
       "        <matplotlib.axes._subplots.AxesSubplot object at 0x000002432CD35710>,\n",
       "        <matplotlib.axes._subplots.AxesSubplot object at 0x000002432CC9B470>],\n",
       "       [<matplotlib.axes._subplots.AxesSubplot object at 0x000002432CBD7940>,\n",
       "        <matplotlib.axes._subplots.AxesSubplot object at 0x000002432CB15940>,\n",
       "        <matplotlib.axes._subplots.AxesSubplot object at 0x000002432CA54710>,\n",
       "        <matplotlib.axes._subplots.AxesSubplot object at 0x000002432C9FA9E8>],\n",
       "       [<matplotlib.axes._subplots.AxesSubplot object at 0x000002432C8F76A0>,\n",
       "        <matplotlib.axes._subplots.AxesSubplot object at 0x000002432C82E940>,\n",
       "        <matplotlib.axes._subplots.AxesSubplot object at 0x000002432C7B9748>,\n",
       "        <matplotlib.axes._subplots.AxesSubplot object at 0x000002432C6AA470>]],\n",
       "      dtype=object)"
      ]
     },
     "execution_count": 19,
     "metadata": {},
     "output_type": "execute_result"
    },
    {
     "data": {
      "image/png": "[encoded data removed]",
      "text/plain": [
       "<matplotlib.figure.Figure at 0x24330c691d0>"
      ]
     },
     "metadata": {},
     "output_type": "display_data"
    }
   ],
   "source": [
    "# Check the result\n",
    "train_data_clean_no.iloc[:,80:100].hist(figsize=[20,20])"
   ]
  },
  {
   "cell_type": "markdown",
   "metadata": {
    "colab_type": "text",
    "id": "KNpSDwWNpMYh"
   },
   "source": [
    "The plots look much better now, even though they are not perfect -  especially columns 92-95 are still pretty rough."
   ]
  },
  {
   "cell_type": "markdown",
   "metadata": {
    "colab_type": "text",
    "id": "n-tLjgw4Cj24"
   },
   "source": [
    "## 3. Methods and experiments"
   ]
  },
  {
   "cell_type": "markdown",
   "metadata": {
    "colab_type": "text",
    "id": "HZkWOXN-kVCH"
   },
   "source": [
    "###  Our ML Pipeline:\n",
    "\n",
    "For the challenging approaches we tried out Logistic Regression, Gradient Boosting Classifier and Support Vector Classifier from the SKLearn library. Additionally we trained a Deep Neural Net on Keras and semi supervised learning using Label Propagation from SKLearn, but were unable to find any significant results.\n",
    "\n",
    "The best result was achieved by Logistic Regression with the accuracy of 64% on kaggle.\n"
   ]
  },
  {
   "cell_type": "code",
   "execution_count": 20,
   "metadata": {
    "colab": {},
    "colab_type": "code",
    "id": "vZfp1lruCj25"
   },
   "outputs": [],
   "source": [
    "#Import sklearn libaries\n",
    "from sklearn import preprocessing\n",
    "from sklearn.decomposition import PCA\n",
    "from sklearn.feature_selection import SelectKBest\n",
    "from sklearn.linear_model import LogisticRegression\n",
    "from sklearn.model_selection import train_test_split\n",
    "from sklearn.svm import LinearSVC, SVC\n",
    "from sklearn.ensemble import GradientBoostingClassifier\n",
    "from sklearn.model_selection import GridSearchCV\n",
    "from sklearn.model_selection import cross_val_score\n",
    "from sklearn.model_selection import ShuffleSplit\n",
    "from sklearn.pipeline import Pipeline, FeatureUnion"
   ]
  },
  {
   "cell_type": "markdown",
   "metadata": {
    "colab_type": "text",
    "id": "OpTDk6PpvYJ4"
   },
   "source": [
    "First we had to find the sweetspot of methods for scaling the data, dimensionality reduction as well as model selection.[6][7] We started off with plain brute force techniques, but as time went by. We thought there had to be an easier way, so we found grid search.\n",
    "\n",
    "Below is a cell containing our search-space for the best solution. We did not run this at once, it is rather a summary of the methods we tried out. We do not recommend running this cell, since it most probably is highly time-costly and it's only meant to show our thought process. Therefore, we have proceeded to comment out the whole cell."
   ]
  },
  {
   "cell_type": "code",
   "execution_count": 0,
   "metadata": {
    "colab": {},
    "colab_type": "code",
    "id": "tkD3K7UPvYXV"
   },
   "outputs": [],
   "source": [
    "'''\n",
    "\n",
    "X_train, X_test, y_train, y_test = train_test_split(train_data_clean_no, train_labels_no, test_size=0.3, random_state=0)\n",
    "\n",
    "scalers_to_test = [preprocessing.QuantileTransformer(), preprocessing.Normalizer(), preprocessing.MinMaxScaler(), preprocessing.MaxAbsScaler()]\n",
    "n_features_to_test = np.arange(70,111,10)\n",
    "n_dimensions_to_test = np.arange(72,77)\n",
    "models_to_test = [LogisticRegression(), GradientBoostingClassifier(), SVC(), LinearSVC()]\n",
    "\n",
    "params = [\n",
    "    {'scaler': scalers_to_test},\n",
    "    {'skb_k': n_features_to_test},\n",
    "    {'pca': n_dimensions_to_test},\n",
    "    {'regressor': models_to_test}\n",
    "        ]\n",
    "        \n",
    "gridsearch = GridSearchCV(pipe, params, verbose=1, cv=cv).fit(X_train, y_train)\n",
    "\n",
    "'''"
   ]
  },
  {
   "cell_type": "markdown",
   "metadata": {
    "colab_type": "text",
    "id": "mQGjHLudxSSU"
   },
   "source": [
    "The after countless bruteforce and gridsearch runs, we ended up with the following pipe [8]:"
   ]
  },
  {
   "cell_type": "code",
   "execution_count": 43,
   "metadata": {
    "colab": {},
    "colab_type": "code",
    "id": "9CT0vVB5xSg8"
   },
   "outputs": [],
   "source": [
    "# Let's create our pipe\n",
    "\n",
    "pipe = Pipeline([\n",
    "        ('scaler', preprocessing.MinMaxScaler(copy=True, feature_range=(0,1))),\n",
    "        ('reduce_dim', FeatureUnion([(\"pca\", PCA(n_components=75)),\n",
    "                                     (\"skb\", SelectKBest(k=100))])),\n",
    "        ('regressor', LogisticRegression(C=1.0, class_weight=None, dual=False, fit_intercept=True,\n",
    "           intercept_scaling=1, max_iter=100, multi_class='ovr', n_jobs=1,\n",
    "           penalty='l2', random_state=None, solver='liblinear', tol=0.0001,\n",
    "           verbose=0, warm_start=False))\n",
    "         ])"
   ]
  },
  {
   "cell_type": "markdown",
   "metadata": {
    "colab_type": "text",
    "id": "Wh0nuncnzfHd"
   },
   "source": [
    "Let's crossvalidate the pipeline on the data:"
   ]
  },
  {
   "cell_type": "code",
   "execution_count": 50,
   "metadata": {
    "colab": {
     "base_uri": "https://localhost:8080/",
     "height": 34
    },
    "colab_type": "code",
    "id": "g96nwDifzJjl",
    "outputId": "ddf52dea-a500-4917-fb77-4b3edfce44e0"
   },
   "outputs": [
    {
     "name": "stdout",
     "output_type": "stream",
     "text": [
      "Accuracy: 0.672 (+/- 0.01)\n"
     ]
    }
   ],
   "source": [
    "# crossvalidate the pipeline\n",
    "cv = ShuffleSplit(n_splits=5, test_size=0.2, random_state=0)\n",
    "scores = cross_val_score(pipe, train_data_clean_no , train_labels_no, cv=cv)\n",
    "\n",
    "# Display mean accuracy and std from cv\n",
    "print(\"Accuracy: %0.3f (+/- %0.2f)\" % (scores.mean(), scores.std() * 2))\n",
    "\n"
   ]
  },
  {
   "cell_type": "markdown",
   "metadata": {
    "colab_type": "text",
    "id": "w3Q7-0Zh0hDt"
   },
   "source": [
    "We chose to crossvalidate the pipeline since the normal train-test form of validating the data gave too varying results.\n",
    "\n",
    "Our accuracy of 67% in the validation corresponds pretty well with the result of 64% on kaggle, but it seems like it is a little bit overfitted.\n",
    "\n",
    "And then train the pipe and predict new labels:"
   ]
  },
  {
   "cell_type": "code",
   "execution_count": 53,
   "metadata": {
    "colab": {},
    "colab_type": "code",
    "id": "ZjjBWTYh0hUa"
   },
   "outputs": [],
   "source": [
    "# train the pipe on the training data\n",
    "X_train, X_test, y_train, y_test = train_test_split(train_data_clean_no, train_labels_no, test_size=0.2, random_state=2)\n",
    "pipe.fit(X_train , y_train)\n",
    "\n",
    "# predict labels for the test data\n",
    "y_hat = pipe.predict(test_data_clean)\n",
    "loss = pipe.predict_proba(test_data_clean)\n"
   ]
  },
  {
   "cell_type": "markdown",
   "metadata": {
    "colab_type": "text",
    "id": "27Az9Wsk1Q1i"
   },
   "source": [
    "Convert the predicted array into a submission file for the accuracy competition.\n"
   ]
  },
  {
   "cell_type": "code",
   "execution_count": 54,
   "metadata": {
    "colab": {},
    "colab_type": "code",
    "id": "_D1QJBz71QFs"
   },
   "outputs": [],
   "source": [
    "# Ids of the predictions\n",
    "idx = np.arange(1, len(test_data_clean)+1).astype(str)\n",
    "\n",
    "idx = np.transpose(idx)\n",
    "\n",
    "#CONVERT TO SUBMISSION FILE\n",
    "predicts = y_hat[:].astype(str)\n",
    "accuracy = np.column_stack([idx,predicts]).astype(str)\n",
    "\n",
    "accuracy = np.row_stack([['Sample_id','Sample_label'], accuracy])\n",
    "\n",
    "import csv\n",
    "\n",
    "with open('accuracy_varmat.csv', 'w', newline='\\n') as myfile:\n",
    "    wr = csv.writer(myfile, quoting=csv.QUOTE_ALL)\n",
    "    for val in accuracy:\n",
    "        wr.writerow(val)"
   ]
  },
  {
   "cell_type": "markdown",
   "metadata": {
    "colab_type": "text",
    "id": "5e-kIRrx18uH"
   },
   "source": [
    "Convert the probability array into a submission file for the log_loss competition."
   ]
  },
  {
   "cell_type": "code",
   "execution_count": 55,
   "metadata": {
    "colab": {
     "base_uri": "https://localhost:8080/",
     "height": 323
    },
    "colab_type": "code",
    "id": "gKZ-SJ9c11yy",
    "outputId": "41d3818c-5a15-49e6-e57c-8cb9bf2da975"
   },
   "outputs": [],
   "source": [
    "cert = loss.astype(str)\n",
    "\n",
    "idx = np.arange(0, len(test_data)+1).astype(str)\n",
    "idx[0] = 'Sample_id'\n",
    "idx = np.transpose(idx)\n",
    "classes = ['Class_1', 'Class_2', 'Class_3', 'Class_4', 'Class_5', 'Class_6', 'Class_7', 'Class_8', 'Class_9', 'Class_10']\n",
    "cert = np.row_stack([classes,cert])\n",
    "\n",
    "log_loss = np.column_stack([idx,cert])\n",
    "\n",
    "import csv\n",
    "\n",
    "with open('loss_varmat.csv', 'w', newline='\\n') as myfile:\n",
    "    wr = csv.writer(myfile, quoting=csv.QUOTE_ALL)\n",
    "    for val in log_loss:\n",
    "        wr.writerow(val)\n",
    "       "
   ]
  },
  {
   "cell_type": "markdown",
   "metadata": {
    "colab_type": "text",
    "id": "dEWXWWHEj3ve"
   },
   "source": [
    "### The h2o.ai autoML approach:\n",
    "\n",
    "The autoML is run on raw data, no preprocessing necessary.\n",
    "\n",
    "AutoML score on the Kaggle accuracy competition: 65%."
   ]
  },
  {
   "cell_type": "markdown",
   "metadata": {
    "colab_type": "text",
    "id": "HbnnC1yN4nW7"
   },
   "source": [
    "Side note for the reviewer: The h2o library needs quite a lot of dependencies, as well as a JRE. Therefore the h2o.init() function is left commented. If you want to run the AutoML section, uncomment the line."
   ]
  },
  {
   "cell_type": "code",
   "execution_count": 77,
   "metadata": {
    "colab": {
     "base_uri": "https://localhost:8080/",
     "height": 1543
    },
    "colab_type": "code",
    "id": "_S8tT12vkNP-",
    "outputId": "1a1aff84-afba-45e5-cad8-00af2a708d9d"
   },
   "outputs": [],
   "source": [
    "# Import libraries\n",
    "import h2o\n",
    "from h2o.automl import H2OAutoML\n",
    "\n",
    "# Setup the h2o VM\n",
    "#h2o.init() # uncomment to run the autoML section"
   ]
  },
  {
   "cell_type": "code",
   "execution_count": 62,
   "metadata": {
    "colab": {},
    "colab_type": "code",
    "id": "fDPPrPYbk77c"
   },
   "outputs": [
    {
     "name": "stdout",
     "output_type": "stream",
     "text": [
      "Parse progress: |█████████████████████████████████████████████████████████| 100%\n"
     ]
    }
   ],
   "source": [
    "# Convert our dataframe to h2oFrame\n",
    "df = pd.concat([train_data, train_labels], axis =1)\n",
    "h2o_df = h2o.H2OFrame(df)\n",
    "h2o_df['labels'] = h2o_df['labels'].asfactor()"
   ]
  },
  {
   "cell_type": "code",
   "execution_count": 63,
   "metadata": {
    "colab": {},
    "colab_type": "code",
    "id": "-5l32MBpYET0"
   },
   "outputs": [],
   "source": [
    "# Define the label column\n",
    "y = 'labels'"
   ]
  },
  {
   "cell_type": "code",
   "execution_count": 66,
   "metadata": {
    "colab": {},
    "colab_type": "code",
    "id": "vN2EDed0lREs"
   },
   "outputs": [
    {
     "name": "stdout",
     "output_type": "stream",
     "text": [
      "AutoML progress: |████████████████████████████████████████████████████████| 100%\n"
     ]
    }
   ],
   "source": [
    "# Run AutoML for 300 seconds\n",
    "aml = H2OAutoML(max_runtime_secs = 300)\n",
    "aml.train(y = y, training_frame = h2o_df)"
   ]
  },
  {
   "cell_type": "code",
   "execution_count": 67,
   "metadata": {
    "colab": {},
    "colab_type": "code",
    "id": "L4J3xCdNlTsF"
   },
   "outputs": [
    {
     "data": {
      "text/html": [
       "<table>\n",
       "<thead>\n",
       "<tr><th>model_id                                             </th><th style=\"text-align: right;\">  mean_per_class_error</th><th style=\"text-align: right;\">  logloss</th><th style=\"text-align: right;\">    rmse</th><th style=\"text-align: right;\">     mse</th></tr>\n",
       "</thead>\n",
       "<tbody>\n",
       "<tr><td>StackedEnsemble_BestOfFamily_0_AutoML_20181102_162333</td><td style=\"text-align: right;\">              0.6357  </td><td style=\"text-align: right;\">  1.12197</td><td style=\"text-align: right;\">0.588325</td><td style=\"text-align: right;\">0.346127</td></tr>\n",
       "<tr><td>StackedEnsemble_AllModels_0_AutoML_20181102_162333   </td><td style=\"text-align: right;\">              0.635863</td><td style=\"text-align: right;\">  1.12046</td><td style=\"text-align: right;\">0.588454</td><td style=\"text-align: right;\">0.346278</td></tr>\n",
       "<tr><td>GLM_grid_0_AutoML_20181102_162333_model_0            </td><td style=\"text-align: right;\">              0.638613</td><td style=\"text-align: right;\">  1.10526</td><td style=\"text-align: right;\">0.587701</td><td style=\"text-align: right;\">0.345392</td></tr>\n",
       "<tr><td>GBM_grid_0_AutoML_20181102_162333_model_0            </td><td style=\"text-align: right;\">              0.731446</td><td style=\"text-align: right;\">  1.26394</td><td style=\"text-align: right;\">0.610076</td><td style=\"text-align: right;\">0.372193</td></tr>\n",
       "<tr><td>GBM_grid_0_AutoML_20181102_162333_model_1            </td><td style=\"text-align: right;\">              0.739979</td><td style=\"text-align: right;\">  1.5298 </td><td style=\"text-align: right;\">0.742974</td><td style=\"text-align: right;\">0.55201 </td></tr>\n",
       "<tr><td>DRF_0_AutoML_20181102_162333                         </td><td style=\"text-align: right;\">              0.753922</td><td style=\"text-align: right;\">  1.69953</td><td style=\"text-align: right;\">0.651931</td><td style=\"text-align: right;\">0.425014</td></tr>\n",
       "<tr><td>XRT_0_AutoML_20181102_162333                         </td><td style=\"text-align: right;\">              0.75714 </td><td style=\"text-align: right;\">  1.86182</td><td style=\"text-align: right;\">0.652953</td><td style=\"text-align: right;\">0.426347</td></tr>\n",
       "<tr><td>DRF_0_AutoML_20181102_162220                         </td><td style=\"text-align: right;\">              0.75988 </td><td style=\"text-align: right;\">  1.86284</td><td style=\"text-align: right;\">0.653207</td><td style=\"text-align: right;\">0.426679</td></tr>\n",
       "</tbody>\n",
       "</table>"
      ]
     },
     "metadata": {},
     "output_type": "display_data"
    },
    {
     "data": {
      "text/plain": []
     },
     "execution_count": 67,
     "metadata": {},
     "output_type": "execute_result"
    }
   ],
   "source": [
    "# Show the best performing ML algo's\n",
    "lb = aml.leaderboard\n",
    "lb"
   ]
  },
  {
   "cell_type": "code",
   "execution_count": 69,
   "metadata": {
    "colab": {},
    "colab_type": "code",
    "id": "xKmOgWTelbWZ"
   },
   "outputs": [
    {
     "name": "stdout",
     "output_type": "stream",
     "text": [
      "Parse progress: |█████████████████████████████████████████████████████████| 100%\n",
      "stackedensemble prediction progress: |████████████████████████████████████| 100%\n"
     ]
    }
   ],
   "source": [
    "# Import test data and make predictions using the best performing model\n",
    "test_data_h2o = h2o.H2OFrame(test_data)\n",
    "y_hat_h2o = aml.leader.predict(test_data_h2o)"
   ]
  },
  {
   "cell_type": "code",
   "execution_count": 70,
   "metadata": {
    "colab": {},
    "colab_type": "code",
    "id": "ho4_QDnwm10c"
   },
   "outputs": [],
   "source": [
    "# Ids of the predictions\n",
    "idx = np.arange(0, len(test_data)+1).astype(str)\n",
    "idx[0] = 'Sample_id'\n",
    "idx = np.transpose(idx)"
   ]
  },
  {
   "cell_type": "code",
   "execution_count": 71,
   "metadata": {
    "colab": {},
    "colab_type": "code",
    "id": "Wajnf3bMmCAo"
   },
   "outputs": [],
   "source": [
    "# Convert predictions into correct format (ACCURACY)\n",
    "# Predictions\n",
    "predicts = y_hat_h2o[:,0]\n",
    "predicts.col_names = ['Sample_label']\n",
    "predicts = predicts.as_data_frame().as_matrix().astype(str)\n",
    "predicts = np.row_stack([['Sample_label'],predicts])\n",
    "\n",
    "accuracy = np.column_stack([idx,predicts])"
   ]
  },
  {
   "cell_type": "code",
   "execution_count": 72,
   "metadata": {
    "colab": {},
    "colab_type": "code",
    "id": "gnBjtm1FmKiE"
   },
   "outputs": [],
   "source": [
    "# log loss\n",
    "cert = y_hat_h2o[:,1:]\n",
    "cert = cert.as_data_frame().as_matrix().astype(str)\n",
    "classes = ['Class_1', 'Class_2', 'Class_3', 'Class_4', 'Class_5', 'Class_6', 'Class_7', 'Class_8', 'Class_9', 'Class_10']\n",
    "cert = np.row_stack([classes,cert])\n",
    "\n",
    "log_loss = np.column_stack([idx,cert])"
   ]
  },
  {
   "cell_type": "code",
   "execution_count": 74,
   "metadata": {
    "colab": {},
    "colab_type": "code",
    "id": "pUl27BNkmM9R"
   },
   "outputs": [],
   "source": [
    "# Save result into submission file (change variables depending on submission acc/loss)\n",
    "import csv\n",
    "\n",
    "with open('h2o_acc_varmat.csv', 'w', newline='\\n') as myfile:\n",
    "    wr = csv.writer(myfile, quoting=csv.QUOTE_ALL)\n",
    "    for val in accuracy:\n",
    "        wr.writerow(val)"
   ]
  },
  {
   "cell_type": "markdown",
   "metadata": {
    "colab_type": "text",
    "id": "Nvp9gjmICj28"
   },
   "source": [
    "## 4. Results"
   ]
  },
  {
   "cell_type": "markdown",
   "metadata": {
    "colab_type": "text",
    "id": "R6GuigWoCj29"
   },
   "source": [
    "\n",
    "### Performance comparison\n",
    "\n",
    "#### Training\n",
    "\n",
    "* On our test data our solution had 65% accuracy and 1.09 LogLoss. \n",
    "* AutoML 1.12 LogLoss on crossvalidation, we were unable to extract the accuracy.\n",
    "\n",
    "#### Kaggle\n",
    "* Our solution had 64.1% accuracy on kaggle with 0.183 LogLoss.\n",
    "* AutoML solution had 65.8% accuracy with 0.172 LogLoss. \n",
    "\n"
   ]
  },
  {
   "cell_type": "code",
   "execution_count": 57,
   "metadata": {},
   "outputs": [
    {
     "name": "stdout",
     "output_type": "stream",
     "text": [
      "Accuracy: 0.650\n",
      "LogLoss: 1.090\n"
     ]
    }
   ],
   "source": [
    "from sklearn.metrics import log_loss, accuracy_score\n",
    "test_y_hat = pipe.predict(X_test)\n",
    "test_y_pred = pipe.predict_proba(X_test)\n",
    "\n",
    "test_acc = accuracy_score(y_test, test_y_hat)\n",
    "test_loss = log_loss(y_test, test_y_pred)\n",
    "\n",
    "print(\"Accuracy: %0.3f\" % test_acc)\n",
    "print(\"LogLoss: %0.3f\" % test_loss)"
   ]
  },
  {
   "cell_type": "markdown",
   "metadata": {},
   "source": [
    "The high numbers of LogLoss, might be due to some incompability with the scoring algorithms. Or then 1 should be subtracted from the result."
   ]
  },
  {
   "cell_type": "markdown",
   "metadata": {
    "colab_type": "text",
    "id": "ifXMl74gcotw"
   },
   "source": [
    "### Confusion Matrices"
   ]
  },
  {
   "cell_type": "markdown",
   "metadata": {
    "colab_type": "text",
    "id": "iLroRJqOrnXa"
   },
   "source": [
    "#### Traditional"
   ]
  },
  {
   "cell_type": "code",
   "execution_count": 58,
   "metadata": {
    "colab": {
     "base_uri": "https://localhost:8080/",
     "height": 442
    },
    "colab_type": "code",
    "id": "q8AEQJX6rqiN",
    "outputId": "36202116-18d7-4c53-a4e1-faac933bbff4"
   },
   "outputs": [
    {
     "name": "stdout",
     "output_type": "stream",
     "text": [
      "[[274   9   1   5   2   3   1   1   0   1]\n",
      " [ 27  36   4   2   0   0   0   0   0   0]\n",
      " [  7   1  27   0   2   0   0   0   0   0]\n",
      " [ 18   4   0  19   1   0   0   0   0   0]\n",
      " [ 15   4   1   2   6   4   0   0   0   1]\n",
      " [ 12   4   2   2   1   4   0   0   1   1]\n",
      " [ 14   2   1   1   2   4   0   0   1   1]\n",
      " [ 17   1   0   1   1   0   0   5   0   0]\n",
      " [  1   0   2   0   2   1   0   1   4   0]\n",
      " [  9   0   0   1   0   0   0   0   0   0]]\n",
      "             precision    recall  f1-score   support\n",
      "\n",
      "          1       0.70      0.92      0.79       297\n",
      "          2       0.59      0.52      0.55        69\n",
      "          3       0.71      0.73      0.72        37\n",
      "          4       0.58      0.45      0.51        42\n",
      "          5       0.35      0.18      0.24        33\n",
      "          6       0.25      0.15      0.19        27\n",
      "          7       0.00      0.00      0.00        26\n",
      "          8       0.71      0.20      0.31        25\n",
      "          9       0.67      0.36      0.47        11\n",
      "         10       0.00      0.00      0.00        10\n",
      "\n",
      "avg / total       0.59      0.65      0.60       577\n",
      "\n"
     ]
    }
   ],
   "source": [
    "# Confusion matrix and scores\n",
    "from sklearn.metrics import classification_report, confusion_matrix\n",
    "\n",
    "y_pred = pipe.predict(X_test)\n",
    "\n",
    "cm = confusion_matrix(y_test, y_pred)\n",
    "print(cm)\n",
    "\n",
    "print(classification_report(y_test, y_pred))\n",
    "\n"
   ]
  },
  {
   "cell_type": "markdown",
   "metadata": {
    "colab_type": "text",
    "id": "SpCaR0Zxc0tU"
   },
   "source": [
    "From the confusion matrix, we can clearly see that categories 7 and 10 were our biggest weak spots, since we didnt manage to categorize a single song correctly into those categories. We can also see the effect the major shift in samples favored to category 1. Since most errors are due to categorizing into that category."
   ]
  },
  {
   "cell_type": "markdown",
   "metadata": {
    "colab_type": "text",
    "id": "rFOGaqDCrgAP"
   },
   "source": [
    "#### h2o.ai AutoML\n"
   ]
  },
  {
   "cell_type": "code",
   "execution_count": 75,
   "metadata": {
    "colab": {},
    "colab_type": "code",
    "id": "cortSyCnCj2-"
   },
   "outputs": [
    {
     "name": "stdout",
     "output_type": "stream",
     "text": [
      "Confusion Matrix: Row labels: Actual class; Column labels: Predicted class\n",
      "\n"
     ]
    },
    {
     "data": {
      "text/html": [
       "<div style=\"overflow:auto\"><table style=\"width:50%\"><tr><td><b>1</b></td>\n",
       "<td><b>2</b></td>\n",
       "<td><b>3</b></td>\n",
       "<td><b>4</b></td>\n",
       "<td><b>5</b></td>\n",
       "<td><b>6</b></td>\n",
       "<td><b>7</b></td>\n",
       "<td><b>8</b></td>\n",
       "<td><b>9</b></td>\n",
       "<td><b>10</b></td>\n",
       "<td><b>Error</b></td>\n",
       "<td><b>Rate</b></td></tr>\n",
       "<tr><td>2071.0</td>\n",
       "<td>46.0</td>\n",
       "<td>9.0</td>\n",
       "<td>9.0</td>\n",
       "<td>12.0</td>\n",
       "<td>19.0</td>\n",
       "<td>1.0</td>\n",
       "<td>10.0</td>\n",
       "<td>1.0</td>\n",
       "<td>0.0</td>\n",
       "<td>0.0491276</td>\n",
       "<td>107 / 2Â 178</td></tr>\n",
       "<tr><td>67.0</td>\n",
       "<td>533.0</td>\n",
       "<td>10.0</td>\n",
       "<td>6.0</td>\n",
       "<td>0.0</td>\n",
       "<td>2.0</td>\n",
       "<td>0.0</td>\n",
       "<td>0.0</td>\n",
       "<td>0.0</td>\n",
       "<td>0.0</td>\n",
       "<td>0.1375405</td>\n",
       "<td>85 / 618</td></tr>\n",
       "<tr><td>20.0</td>\n",
       "<td>8.0</td>\n",
       "<td>289.0</td>\n",
       "<td>1.0</td>\n",
       "<td>0.0</td>\n",
       "<td>6.0</td>\n",
       "<td>0.0</td>\n",
       "<td>0.0</td>\n",
       "<td>2.0</td>\n",
       "<td>0.0</td>\n",
       "<td>0.1134969</td>\n",
       "<td>37 / 326</td></tr>\n",
       "<tr><td>11.0</td>\n",
       "<td>4.0</td>\n",
       "<td>0.0</td>\n",
       "<td>234.0</td>\n",
       "<td>1.0</td>\n",
       "<td>1.0</td>\n",
       "<td>0.0</td>\n",
       "<td>1.0</td>\n",
       "<td>1.0</td>\n",
       "<td>0.0</td>\n",
       "<td>0.0750988</td>\n",
       "<td>19 / 253</td></tr>\n",
       "<tr><td>89.0</td>\n",
       "<td>5.0</td>\n",
       "<td>4.0</td>\n",
       "<td>10.0</td>\n",
       "<td>97.0</td>\n",
       "<td>5.0</td>\n",
       "<td>1.0</td>\n",
       "<td>2.0</td>\n",
       "<td>1.0</td>\n",
       "<td>0.0</td>\n",
       "<td>0.5467290</td>\n",
       "<td>117 / 214</td></tr>\n",
       "<tr><td>17.0</td>\n",
       "<td>1.0</td>\n",
       "<td>2.0</td>\n",
       "<td>3.0</td>\n",
       "<td>4.0</td>\n",
       "<td>231.0</td>\n",
       "<td>0.0</td>\n",
       "<td>2.0</td>\n",
       "<td>0.0</td>\n",
       "<td>0.0</td>\n",
       "<td>0.1115385</td>\n",
       "<td>29 / 260</td></tr>\n",
       "<tr><td>40.0</td>\n",
       "<td>51.0</td>\n",
       "<td>1.0</td>\n",
       "<td>2.0</td>\n",
       "<td>3.0</td>\n",
       "<td>2.0</td>\n",
       "<td>41.0</td>\n",
       "<td>1.0</td>\n",
       "<td>0.0</td>\n",
       "<td>0.0</td>\n",
       "<td>0.7092199</td>\n",
       "<td>100 / 141</td></tr>\n",
       "<tr><td>24.0</td>\n",
       "<td>0.0</td>\n",
       "<td>1.0</td>\n",
       "<td>0.0</td>\n",
       "<td>0.0</td>\n",
       "<td>0.0</td>\n",
       "<td>0.0</td>\n",
       "<td>170.0</td>\n",
       "<td>0.0</td>\n",
       "<td>0.0</td>\n",
       "<td>0.1282051</td>\n",
       "<td>25 / 195</td></tr>\n",
       "<tr><td>6.0</td>\n",
       "<td>2.0</td>\n",
       "<td>1.0</td>\n",
       "<td>0.0</td>\n",
       "<td>1.0</td>\n",
       "<td>2.0</td>\n",
       "<td>0.0</td>\n",
       "<td>0.0</td>\n",
       "<td>80.0</td>\n",
       "<td>0.0</td>\n",
       "<td>0.1304348</td>\n",
       "<td>12 / 92</td></tr>\n",
       "<tr><td>11.0</td>\n",
       "<td>0.0</td>\n",
       "<td>0.0</td>\n",
       "<td>4.0</td>\n",
       "<td>1.0</td>\n",
       "<td>0.0</td>\n",
       "<td>7.0</td>\n",
       "<td>0.0</td>\n",
       "<td>1.0</td>\n",
       "<td>62.0</td>\n",
       "<td>0.2790698</td>\n",
       "<td>24 / 86</td></tr>\n",
       "<tr><td>2356.0</td>\n",
       "<td>650.0</td>\n",
       "<td>317.0</td>\n",
       "<td>269.0</td>\n",
       "<td>119.0</td>\n",
       "<td>268.0</td>\n",
       "<td>50.0</td>\n",
       "<td>186.0</td>\n",
       "<td>86.0</td>\n",
       "<td>62.0</td>\n",
       "<td>0.1272061</td>\n",
       "<td>555 / 4Â 363</td></tr></table></div>"
      ],
      "text/plain": [
       "1     2    3    4    5    6    7    8    9    10    Error      Rate\n",
       "----  ---  ---  ---  ---  ---  ---  ---  ---  ----  ---------  ------------\n",
       "2071  46   9    9    12   19   1    10   1    0     0.0491276  107 / 2Â 178\n",
       "67    533  10   6    0    2    0    0    0    0     0.13754    85 / 618\n",
       "20    8    289  1    0    6    0    0    2    0     0.113497   37 / 326\n",
       "11    4    0    234  1    1    0    1    1    0     0.0750988  19 / 253\n",
       "89    5    4    10   97   5    1    2    1    0     0.546729   117 / 214\n",
       "17    1    2    3    4    231  0    2    0    0     0.111538   29 / 260\n",
       "40    51   1    2    3    2    41   1    0    0     0.70922    100 / 141\n",
       "24    0    1    0    0    0    0    170  0    0     0.128205   25 / 195\n",
       "6     2    1    0    1    2    0    0    80   0     0.130435   12 / 92\n",
       "11    0    0    4    1    0    7    0    1    62    0.27907    24 / 86\n",
       "2356  650  317  269  119  268  50   186  86   62    0.127206   555 / 4Â 363"
      ]
     },
     "metadata": {},
     "output_type": "display_data"
    },
    {
     "data": {
      "text/plain": []
     },
     "execution_count": 75,
     "metadata": {},
     "output_type": "execute_result"
    }
   ],
   "source": [
    "# Confusion matrix\n",
    "aml.leader.confusion_matrix(h2o_df)"
   ]
  },
  {
   "cell_type": "markdown",
   "metadata": {},
   "source": [
    "The AutoML model seems to have problems with classes 5 and 7, with error rates of 0.54 and 0.7 accordingly."
   ]
  },
  {
   "cell_type": "markdown",
   "metadata": {
    "colab_type": "text",
    "id": "SlKsSv0jCj3D"
   },
   "source": [
    "## 5. Discussion/Conclusions"
   ]
  },
  {
   "cell_type": "markdown",
   "metadata": {
    "colab_type": "text",
    "id": "iZo7vduLCj3E"
   },
   "source": [
    "\n",
    "We did not manage to beat the AutoML tool which got a 65% accuracy. However, we managed to almost match it with 64%. It required a lot of manual preprocessing of the data and trying out different algorithms to find out which was best suited for our task. The data was not perfect, but simulated more of a real life situation. The percentages are still low, leading us the conclusion that maybe the extracted features weren't optimal for determining the songs genre and perharps there could be other factors to consider for this task.\n",
    "\n",
    "What we especially learned was that the preprocessing and removal of outliers, had a huge difference when it came to overfitting. Without proper preprocessing our Kaggle score was >10% lower than the accuracy extracted from testing on the training data.\n",
    "\n",
    "While accuracy might be the most interesting metric simply because it's easy to understand and shows how succesful something is doesn't mean it's the only thing that should be measured or followed. Logloss is important to keep an eye on to see how well and or close the algorithm is. To see if it was sure when it picked right or if it got lucky. While a high accuracy is desired, if it is accompanied with a high logloss than the algorithm will not be as good as the accuracy might make you think. \n",
    "\n",
    "In future research it would be worthwhile to consider other aspects of songs, such as word count and repetition, if you want to improve the correct percentage. Finding more data points that are not correlated with each other helps machine learning create a better algorithm for predicting labels. Lables could also be something to investigate as it's not evident that a song is actually in the genre it's labeled as. Considering a data set where songs are able to belong to multiple genres might also yield interesting results, since songs aren't always strictly belonging to one category. Also it should be noted that almost 50% of our training data was categorized as belonging to one genre. In future research a more even class distribution might make the algorithm better at finding the actual genre instead of being weigheted towards one very heavily. [9] Our solution performed very poorily in recognizing the less represented genres.\n",
    "\n",
    "How we used the data could also be improved. Finding more systematic solution and not relying on bruteforcing or manual inspection could filter out possible human errors. The machine learning itself could be improved by trying to use an ensamble of algorithms instead of just one alogrithm. \n",
    "\n",
    "\n",
    "We found AutoML to be a very viable solution as we weren't able to beat it. However, we came close to matching it after inspeting it and preprocessing the data carefully. Interestingly enough when we used AutoML on the data we had preprocessed, it gave a worse result than when given the raw data (65% raw compared to 63% when preprocessed by us). However, we believe there were improvements to be done in our solution and it is definetly possible to beat generalized tools such as AutoML with a more tailored solution. It is however a great solution for researching if a dataset is capable of being used in machine learning. It is also a good benchmark to show whether your preprocessing and predictors should be improved or if you should improve your dataset. \n",
    "\n",
    "As for the knowledge acquired during the course, we think the fundamentals were useful in understanding the process of the classification. However, we did have to learn and apply a lot of new techniques during the course of completing the project. That being said, we've got a good foundation to build on, which we think was the goal of the course."
   ]
  },
  {
   "cell_type": "markdown",
   "metadata": {
    "colab_type": "text",
    "id": "L3ja0fAlCj3E"
   },
   "source": [
    "## 6. References"
   ]
  },
  {
   "cell_type": "markdown",
   "metadata": {
    "colab_type": "text",
    "id": "SOXELXf3Cj3F"
   },
   "source": [
    "\n",
    "[1]\n",
    "\n",
    "Data-set from:\n",
    "Thierry Bertin-Mahieux, Daniel P.W. Ellis, Brian Whitman, and Paul Lamere. \n",
    "The Million Song Dataset. In Proceedings of the 12th International Society\n",
    "for Music Information Retrieval Conference (ISMIR 2011), 2011.\n",
    "\n",
    "Labels from:\n",
    "AllMusic.com\n",
    "\n",
    "[2] http://docs.h2o.ai/h2o/latest-stable/h2o-docs/automl.html#\n",
    "\n",
    "[3] https://www.youtube.com/watch?v=42Oo8TOl85I\n",
    "\n",
    "[4] https://medium.com/iotforall/automl-promises-vs-reality-850759f2564a\n",
    "\n",
    "[5] https://towardsdatascience.com/ways-to-detect-and-remove-the-outliers-404d16608dba\n",
    "\n",
    "[6] https://sebastianraschka.com/Articles/2014_about_feature_scaling.html\n",
    "\n",
    "[7] https://www.analyticsvidhya.com/blog/2016/07/practical-guide-data-preprocessing-python-scikit-learn/\n",
    "\n",
    "[8] https://iaml.it/blog/optimizing-sklearn-pipelines\n",
    "\n",
    "[9] https://machinelearningmastery.com/tactics-to-combat-imbalanced-classes-in-your-machine-learning-dataset/\n",
    "\n",
    "\n",
    "\n"
   ]
  }
 ],
 "metadata": {
  "colab": {
   "collapsed_sections": [
    "qen64u8cQe-1",
    "UEJfG2gC8CEC",
    "HZkWOXN-kVCH",
    "dEWXWWHEj3ve"
   ],
   "name": "MLBP2018 Project Report Template.ipynb",
   "provenance": [],
   "version": "0.3.2"
  },
  "kernelspec": {
   "display_name": "Python 3",
   "language": "python",
   "name": "python3"
  },
  "language_info": {
   "codemirror_mode": {
    "name": "ipython",
    "version": 3
   },
   "file_extension": ".py",
   "mimetype": "text/x-python",
   "name": "python",
   "nbconvert_exporter": "python",
   "pygments_lexer": "ipython3",
   "version": "3.6.5"
  }
 },
 "nbformat": 4,
 "nbformat_minor": 1
}
